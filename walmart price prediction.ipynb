{
 "cells": [
  {
   "cell_type": "code",
   "execution_count": 15,
   "id": "jewish-channel",
   "metadata": {},
   "outputs": [
    {
     "data": {
      "application/javascript": [
       "\n",
       "        if (window._pyforest_update_imports_cell) { window._pyforest_update_imports_cell('import pandas as pd'); }\n",
       "    "
      ],
      "text/plain": [
       "<IPython.core.display.Javascript object>"
      ]
     },
     "metadata": {},
     "output_type": "display_data"
    }
   ],
   "source": [
    "re=pd.read_csv('train4.csv')\n",
    "re=re.fillna(re['Item_Weight'].mean())"
   ]
  },
  {
   "cell_type": "code",
   "execution_count": 16,
   "id": "velvet-juice",
   "metadata": {},
   "outputs": [
    {
     "data": {
      "application/javascript": [
       "\n",
       "        if (window._pyforest_update_imports_cell) { window._pyforest_update_imports_cell('import pandas as pd'); }\n",
       "    "
      ],
      "text/plain": [
       "<IPython.core.display.Javascript object>"
      ]
     },
     "metadata": {},
     "output_type": "display_data"
    },
    {
     "data": {
      "text/plain": [
       "Item_Weight                      0\n",
       "Item_Visibility                  0\n",
       "Item_MRP                         0\n",
       "Outlet_Establishment_Year        0\n",
       "Item_Outlet_Sales                0\n",
       "                                ..\n",
       "Outlet_Location_Type_Tier 3      0\n",
       "Outlet_Type_Grocery Store        0\n",
       "Outlet_Type_Supermarket Type1    0\n",
       "Outlet_Type_Supermarket Type2    0\n",
       "Outlet_Type_Supermarket Type3    0\n",
       "Length: 1606, dtype: int64"
      ]
     },
     "execution_count": 16,
     "metadata": {},
     "output_type": "execute_result"
    }
   ],
   "source": [
    "re=pd.get_dummies(re)\n",
    "re.isnull().sum()"
   ]
  },
  {
   "cell_type": "code",
   "execution_count": 17,
   "id": "natural-shakespeare",
   "metadata": {},
   "outputs": [
    {
     "data": {
      "text/plain": [
       "(7999, 1606)"
      ]
     },
     "execution_count": 17,
     "metadata": {},
     "output_type": "execute_result"
    }
   ],
   "source": [
    "train=re[:7999]\n",
    "train.shape"
   ]
  },
  {
   "cell_type": "code",
   "execution_count": 18,
   "id": "entire-greensboro",
   "metadata": {},
   "outputs": [],
   "source": [
    "test=re[8000:]"
   ]
  },
  {
   "cell_type": "code",
   "execution_count": 19,
   "id": "sharing-disposition",
   "metadata": {},
   "outputs": [
    {
     "data": {
      "text/plain": [
       "Item_Weight                      0\n",
       "Item_Visibility                  0\n",
       "Item_MRP                         0\n",
       "Outlet_Establishment_Year        0\n",
       "Item_Identifier_DRA12            0\n",
       "                                ..\n",
       "Outlet_Location_Type_Tier 3      0\n",
       "Outlet_Type_Grocery Store        0\n",
       "Outlet_Type_Supermarket Type1    0\n",
       "Outlet_Type_Supermarket Type2    0\n",
       "Outlet_Type_Supermarket Type3    0\n",
       "Length: 1605, dtype: int64"
      ]
     },
     "execution_count": 19,
     "metadata": {},
     "output_type": "execute_result"
    }
   ],
   "source": [
    "x_train=train.drop('Item_Outlet_Sales',1)#independent variable\n",
    "x_train.isnull().sum()"
   ]
  },
  {
   "cell_type": "code",
   "execution_count": 20,
   "id": "internal-basket",
   "metadata": {},
   "outputs": [
    {
     "data": {
      "text/plain": [
       "0       3735.1380\n",
       "1        443.4228\n",
       "2       2097.2700\n",
       "3        732.3800\n",
       "4        994.7052\n",
       "          ...    \n",
       "7994    3593.3226\n",
       "7995    4037.4112\n",
       "7996     379.5060\n",
       "7997     838.9080\n",
       "7998     109.8570\n",
       "Name: Item_Outlet_Sales, Length: 7999, dtype: float64"
      ]
     },
     "execution_count": 20,
     "metadata": {},
     "output_type": "execute_result"
    }
   ],
   "source": [
    "y_train=train['Item_Outlet_Sales']\n",
    "y_train#dependent"
   ]
  },
  {
   "cell_type": "code",
   "execution_count": 34,
   "id": "accessible-boundary",
   "metadata": {},
   "outputs": [
    {
     "data": {
      "text/html": [
       "<div>\n",
       "<style scoped>\n",
       "    .dataframe tbody tr th:only-of-type {\n",
       "        vertical-align: middle;\n",
       "    }\n",
       "\n",
       "    .dataframe tbody tr th {\n",
       "        vertical-align: top;\n",
       "    }\n",
       "\n",
       "    .dataframe thead th {\n",
       "        text-align: right;\n",
       "    }\n",
       "</style>\n",
       "<table border=\"1\" class=\"dataframe\">\n",
       "  <thead>\n",
       "    <tr style=\"text-align: right;\">\n",
       "      <th></th>\n",
       "      <th>Item_Weight</th>\n",
       "      <th>Item_Visibility</th>\n",
       "      <th>Item_MRP</th>\n",
       "      <th>Outlet_Establishment_Year</th>\n",
       "      <th>Item_Identifier_DRA12</th>\n",
       "      <th>Item_Identifier_DRA24</th>\n",
       "      <th>Item_Identifier_DRA59</th>\n",
       "      <th>Item_Identifier_DRB01</th>\n",
       "      <th>Item_Identifier_DRB13</th>\n",
       "      <th>Item_Identifier_DRB24</th>\n",
       "      <th>...</th>\n",
       "      <th>Outlet_Size_High</th>\n",
       "      <th>Outlet_Size_Medium</th>\n",
       "      <th>Outlet_Size_Small</th>\n",
       "      <th>Outlet_Location_Type_Tier 1</th>\n",
       "      <th>Outlet_Location_Type_Tier 2</th>\n",
       "      <th>Outlet_Location_Type_Tier 3</th>\n",
       "      <th>Outlet_Type_Grocery Store</th>\n",
       "      <th>Outlet_Type_Supermarket Type1</th>\n",
       "      <th>Outlet_Type_Supermarket Type2</th>\n",
       "      <th>Outlet_Type_Supermarket Type3</th>\n",
       "    </tr>\n",
       "  </thead>\n",
       "  <tbody>\n",
       "    <tr>\n",
       "      <th>8000</th>\n",
       "      <td>7.020</td>\n",
       "      <td>0.081329</td>\n",
       "      <td>150.0734</td>\n",
       "      <td>2002</td>\n",
       "      <td>0</td>\n",
       "      <td>0</td>\n",
       "      <td>0</td>\n",
       "      <td>0</td>\n",
       "      <td>0</td>\n",
       "      <td>0</td>\n",
       "      <td>...</td>\n",
       "      <td>0</td>\n",
       "      <td>0</td>\n",
       "      <td>0</td>\n",
       "      <td>0</td>\n",
       "      <td>1</td>\n",
       "      <td>0</td>\n",
       "      <td>0</td>\n",
       "      <td>1</td>\n",
       "      <td>0</td>\n",
       "      <td>0</td>\n",
       "    </tr>\n",
       "    <tr>\n",
       "      <th>8001</th>\n",
       "      <td>7.420</td>\n",
       "      <td>0.020388</td>\n",
       "      <td>247.1092</td>\n",
       "      <td>2004</td>\n",
       "      <td>0</td>\n",
       "      <td>0</td>\n",
       "      <td>0</td>\n",
       "      <td>0</td>\n",
       "      <td>0</td>\n",
       "      <td>0</td>\n",
       "      <td>...</td>\n",
       "      <td>0</td>\n",
       "      <td>0</td>\n",
       "      <td>1</td>\n",
       "      <td>0</td>\n",
       "      <td>1</td>\n",
       "      <td>0</td>\n",
       "      <td>0</td>\n",
       "      <td>1</td>\n",
       "      <td>0</td>\n",
       "      <td>0</td>\n",
       "    </tr>\n",
       "    <tr>\n",
       "      <th>8002</th>\n",
       "      <td>17.250</td>\n",
       "      <td>0.113518</td>\n",
       "      <td>253.5724</td>\n",
       "      <td>1997</td>\n",
       "      <td>0</td>\n",
       "      <td>0</td>\n",
       "      <td>0</td>\n",
       "      <td>0</td>\n",
       "      <td>0</td>\n",
       "      <td>0</td>\n",
       "      <td>...</td>\n",
       "      <td>0</td>\n",
       "      <td>0</td>\n",
       "      <td>1</td>\n",
       "      <td>1</td>\n",
       "      <td>0</td>\n",
       "      <td>0</td>\n",
       "      <td>0</td>\n",
       "      <td>1</td>\n",
       "      <td>0</td>\n",
       "      <td>0</td>\n",
       "    </tr>\n",
       "    <tr>\n",
       "      <th>8003</th>\n",
       "      <td>18.750</td>\n",
       "      <td>0.052917</td>\n",
       "      <td>190.6504</td>\n",
       "      <td>2002</td>\n",
       "      <td>0</td>\n",
       "      <td>0</td>\n",
       "      <td>0</td>\n",
       "      <td>0</td>\n",
       "      <td>0</td>\n",
       "      <td>0</td>\n",
       "      <td>...</td>\n",
       "      <td>0</td>\n",
       "      <td>0</td>\n",
       "      <td>0</td>\n",
       "      <td>0</td>\n",
       "      <td>1</td>\n",
       "      <td>0</td>\n",
       "      <td>0</td>\n",
       "      <td>1</td>\n",
       "      <td>0</td>\n",
       "      <td>0</td>\n",
       "    </tr>\n",
       "    <tr>\n",
       "      <th>8004</th>\n",
       "      <td>20.250</td>\n",
       "      <td>0.018911</td>\n",
       "      <td>220.5772</td>\n",
       "      <td>2007</td>\n",
       "      <td>0</td>\n",
       "      <td>0</td>\n",
       "      <td>0</td>\n",
       "      <td>0</td>\n",
       "      <td>0</td>\n",
       "      <td>0</td>\n",
       "      <td>...</td>\n",
       "      <td>0</td>\n",
       "      <td>0</td>\n",
       "      <td>0</td>\n",
       "      <td>0</td>\n",
       "      <td>1</td>\n",
       "      <td>0</td>\n",
       "      <td>0</td>\n",
       "      <td>1</td>\n",
       "      <td>0</td>\n",
       "      <td>0</td>\n",
       "    </tr>\n",
       "    <tr>\n",
       "      <th>...</th>\n",
       "      <td>...</td>\n",
       "      <td>...</td>\n",
       "      <td>...</td>\n",
       "      <td>...</td>\n",
       "      <td>...</td>\n",
       "      <td>...</td>\n",
       "      <td>...</td>\n",
       "      <td>...</td>\n",
       "      <td>...</td>\n",
       "      <td>...</td>\n",
       "      <td>...</td>\n",
       "      <td>...</td>\n",
       "      <td>...</td>\n",
       "      <td>...</td>\n",
       "      <td>...</td>\n",
       "      <td>...</td>\n",
       "      <td>...</td>\n",
       "      <td>...</td>\n",
       "      <td>...</td>\n",
       "      <td>...</td>\n",
       "      <td>...</td>\n",
       "    </tr>\n",
       "    <tr>\n",
       "      <th>8518</th>\n",
       "      <td>6.865</td>\n",
       "      <td>0.056783</td>\n",
       "      <td>214.5218</td>\n",
       "      <td>1987</td>\n",
       "      <td>0</td>\n",
       "      <td>0</td>\n",
       "      <td>0</td>\n",
       "      <td>0</td>\n",
       "      <td>0</td>\n",
       "      <td>0</td>\n",
       "      <td>...</td>\n",
       "      <td>1</td>\n",
       "      <td>0</td>\n",
       "      <td>0</td>\n",
       "      <td>0</td>\n",
       "      <td>0</td>\n",
       "      <td>1</td>\n",
       "      <td>0</td>\n",
       "      <td>1</td>\n",
       "      <td>0</td>\n",
       "      <td>0</td>\n",
       "    </tr>\n",
       "    <tr>\n",
       "      <th>8519</th>\n",
       "      <td>8.380</td>\n",
       "      <td>0.046982</td>\n",
       "      <td>108.1570</td>\n",
       "      <td>2002</td>\n",
       "      <td>0</td>\n",
       "      <td>0</td>\n",
       "      <td>0</td>\n",
       "      <td>0</td>\n",
       "      <td>0</td>\n",
       "      <td>0</td>\n",
       "      <td>...</td>\n",
       "      <td>0</td>\n",
       "      <td>0</td>\n",
       "      <td>0</td>\n",
       "      <td>0</td>\n",
       "      <td>1</td>\n",
       "      <td>0</td>\n",
       "      <td>0</td>\n",
       "      <td>1</td>\n",
       "      <td>0</td>\n",
       "      <td>0</td>\n",
       "    </tr>\n",
       "    <tr>\n",
       "      <th>8520</th>\n",
       "      <td>10.600</td>\n",
       "      <td>0.035186</td>\n",
       "      <td>85.1224</td>\n",
       "      <td>2004</td>\n",
       "      <td>0</td>\n",
       "      <td>0</td>\n",
       "      <td>0</td>\n",
       "      <td>0</td>\n",
       "      <td>0</td>\n",
       "      <td>0</td>\n",
       "      <td>...</td>\n",
       "      <td>0</td>\n",
       "      <td>0</td>\n",
       "      <td>1</td>\n",
       "      <td>0</td>\n",
       "      <td>1</td>\n",
       "      <td>0</td>\n",
       "      <td>0</td>\n",
       "      <td>1</td>\n",
       "      <td>0</td>\n",
       "      <td>0</td>\n",
       "    </tr>\n",
       "    <tr>\n",
       "      <th>8521</th>\n",
       "      <td>7.210</td>\n",
       "      <td>0.145221</td>\n",
       "      <td>103.1332</td>\n",
       "      <td>2009</td>\n",
       "      <td>0</td>\n",
       "      <td>0</td>\n",
       "      <td>0</td>\n",
       "      <td>0</td>\n",
       "      <td>0</td>\n",
       "      <td>0</td>\n",
       "      <td>...</td>\n",
       "      <td>0</td>\n",
       "      <td>1</td>\n",
       "      <td>0</td>\n",
       "      <td>0</td>\n",
       "      <td>0</td>\n",
       "      <td>1</td>\n",
       "      <td>0</td>\n",
       "      <td>0</td>\n",
       "      <td>1</td>\n",
       "      <td>0</td>\n",
       "    </tr>\n",
       "    <tr>\n",
       "      <th>8522</th>\n",
       "      <td>14.800</td>\n",
       "      <td>0.044878</td>\n",
       "      <td>75.4670</td>\n",
       "      <td>1997</td>\n",
       "      <td>0</td>\n",
       "      <td>0</td>\n",
       "      <td>0</td>\n",
       "      <td>0</td>\n",
       "      <td>0</td>\n",
       "      <td>0</td>\n",
       "      <td>...</td>\n",
       "      <td>0</td>\n",
       "      <td>0</td>\n",
       "      <td>1</td>\n",
       "      <td>1</td>\n",
       "      <td>0</td>\n",
       "      <td>0</td>\n",
       "      <td>0</td>\n",
       "      <td>1</td>\n",
       "      <td>0</td>\n",
       "      <td>0</td>\n",
       "    </tr>\n",
       "  </tbody>\n",
       "</table>\n",
       "<p>523 rows × 1605 columns</p>\n",
       "</div>"
      ],
      "text/plain": [
       "      Item_Weight  Item_Visibility  Item_MRP  Outlet_Establishment_Year  \\\n",
       "8000        7.020         0.081329  150.0734                       2002   \n",
       "8001        7.420         0.020388  247.1092                       2004   \n",
       "8002       17.250         0.113518  253.5724                       1997   \n",
       "8003       18.750         0.052917  190.6504                       2002   \n",
       "8004       20.250         0.018911  220.5772                       2007   \n",
       "...           ...              ...       ...                        ...   \n",
       "8518        6.865         0.056783  214.5218                       1987   \n",
       "8519        8.380         0.046982  108.1570                       2002   \n",
       "8520       10.600         0.035186   85.1224                       2004   \n",
       "8521        7.210         0.145221  103.1332                       2009   \n",
       "8522       14.800         0.044878   75.4670                       1997   \n",
       "\n",
       "      Item_Identifier_DRA12  Item_Identifier_DRA24  Item_Identifier_DRA59  \\\n",
       "8000                      0                      0                      0   \n",
       "8001                      0                      0                      0   \n",
       "8002                      0                      0                      0   \n",
       "8003                      0                      0                      0   \n",
       "8004                      0                      0                      0   \n",
       "...                     ...                    ...                    ...   \n",
       "8518                      0                      0                      0   \n",
       "8519                      0                      0                      0   \n",
       "8520                      0                      0                      0   \n",
       "8521                      0                      0                      0   \n",
       "8522                      0                      0                      0   \n",
       "\n",
       "      Item_Identifier_DRB01  Item_Identifier_DRB13  Item_Identifier_DRB24  \\\n",
       "8000                      0                      0                      0   \n",
       "8001                      0                      0                      0   \n",
       "8002                      0                      0                      0   \n",
       "8003                      0                      0                      0   \n",
       "8004                      0                      0                      0   \n",
       "...                     ...                    ...                    ...   \n",
       "8518                      0                      0                      0   \n",
       "8519                      0                      0                      0   \n",
       "8520                      0                      0                      0   \n",
       "8521                      0                      0                      0   \n",
       "8522                      0                      0                      0   \n",
       "\n",
       "      ...  Outlet_Size_High  Outlet_Size_Medium  Outlet_Size_Small  \\\n",
       "8000  ...                 0                   0                  0   \n",
       "8001  ...                 0                   0                  1   \n",
       "8002  ...                 0                   0                  1   \n",
       "8003  ...                 0                   0                  0   \n",
       "8004  ...                 0                   0                  0   \n",
       "...   ...               ...                 ...                ...   \n",
       "8518  ...                 1                   0                  0   \n",
       "8519  ...                 0                   0                  0   \n",
       "8520  ...                 0                   0                  1   \n",
       "8521  ...                 0                   1                  0   \n",
       "8522  ...                 0                   0                  1   \n",
       "\n",
       "      Outlet_Location_Type_Tier 1  Outlet_Location_Type_Tier 2  \\\n",
       "8000                            0                            1   \n",
       "8001                            0                            1   \n",
       "8002                            1                            0   \n",
       "8003                            0                            1   \n",
       "8004                            0                            1   \n",
       "...                           ...                          ...   \n",
       "8518                            0                            0   \n",
       "8519                            0                            1   \n",
       "8520                            0                            1   \n",
       "8521                            0                            0   \n",
       "8522                            1                            0   \n",
       "\n",
       "      Outlet_Location_Type_Tier 3  Outlet_Type_Grocery Store  \\\n",
       "8000                            0                          0   \n",
       "8001                            0                          0   \n",
       "8002                            0                          0   \n",
       "8003                            0                          0   \n",
       "8004                            0                          0   \n",
       "...                           ...                        ...   \n",
       "8518                            1                          0   \n",
       "8519                            0                          0   \n",
       "8520                            0                          0   \n",
       "8521                            1                          0   \n",
       "8522                            0                          0   \n",
       "\n",
       "      Outlet_Type_Supermarket Type1  Outlet_Type_Supermarket Type2  \\\n",
       "8000                              1                              0   \n",
       "8001                              1                              0   \n",
       "8002                              1                              0   \n",
       "8003                              1                              0   \n",
       "8004                              1                              0   \n",
       "...                             ...                            ...   \n",
       "8518                              1                              0   \n",
       "8519                              1                              0   \n",
       "8520                              1                              0   \n",
       "8521                              0                              1   \n",
       "8522                              1                              0   \n",
       "\n",
       "      Outlet_Type_Supermarket Type3  \n",
       "8000                              0  \n",
       "8001                              0  \n",
       "8002                              0  \n",
       "8003                              0  \n",
       "8004                              0  \n",
       "...                             ...  \n",
       "8518                              0  \n",
       "8519                              0  \n",
       "8520                              0  \n",
       "8521                              0  \n",
       "8522                              0  \n",
       "\n",
       "[523 rows x 1605 columns]"
      ]
     },
     "execution_count": 34,
     "metadata": {},
     "output_type": "execute_result"
    }
   ],
   "source": [
    "\n",
    "x_test=test.drop('Item_Outlet_Sales',1)#independent variable\n",
    "x_test"
   ]
  },
  {
   "cell_type": "code",
   "execution_count": 35,
   "id": "noted-malpractice",
   "metadata": {},
   "outputs": [],
   "source": [
    "true_p=test['Item_Outlet_Sales']\n"
   ]
  },
  {
   "cell_type": "code",
   "execution_count": 36,
   "id": "widespread-christmas",
   "metadata": {},
   "outputs": [],
   "source": [
    "from sklearn.linear_model import LinearRegression"
   ]
  },
  {
   "cell_type": "code",
   "execution_count": 37,
   "id": "deluxe-lancaster",
   "metadata": {},
   "outputs": [],
   "source": [
    "reg=LinearRegression()"
   ]
  },
  {
   "cell_type": "code",
   "execution_count": 38,
   "id": "introductory-lottery",
   "metadata": {},
   "outputs": [
    {
     "data": {
      "text/plain": [
       "LinearRegression()"
      ]
     },
     "execution_count": 38,
     "metadata": {},
     "output_type": "execute_result"
    }
   ],
   "source": [
    "reg.fit(x_train,y_train)"
   ]
  },
  {
   "cell_type": "code",
   "execution_count": 39,
   "id": "cognitive-forwarding",
   "metadata": {},
   "outputs": [
    {
     "data": {
      "text/plain": [
       "array([ 2.41050185e+03,  3.88571262e+03,  3.84839928e+03,  2.06952284e+03,\n",
       "        4.75825782e+03,  2.99302044e+03,  1.88032203e+03,  2.50892141e+03,\n",
       "        3.52320066e+03,  5.33660290e+03,  4.86760827e+03,  1.09854259e+03,\n",
       "        4.14065282e+03,  9.34428384e+02,  1.68444560e+03,  9.36963360e+02,\n",
       "        5.47942939e+02,  9.30686078e+02,  3.47780000e+03,  2.22792696e+03,\n",
       "        1.97960517e+03,  2.18413309e+03,  3.80884844e+03,  5.37304795e+03,\n",
       "        1.22046238e+03, -8.61373821e+02,  2.55789051e+03,  2.56372091e+03,\n",
       "        5.03442970e+03,  4.20781374e+03,  6.31041337e+02,  3.02950431e+02,\n",
       "        1.03374018e+03,  1.53648037e+03,  1.45198913e+03,  2.63212007e+03,\n",
       "        2.90675912e+03,  1.39685376e+03,  6.18996363e+02,  4.81763802e+03,\n",
       "        2.93454449e+03,  1.06408894e+03,  3.66098536e+03,  2.41332999e+02,\n",
       "        3.44687606e+03,  1.88308874e+03,  3.14798536e+03,  2.58990120e+03,\n",
       "        7.98252929e+02,  6.26816075e+02,  5.48752701e+03,  2.34234005e+03,\n",
       "        2.47426194e+03,  2.26262824e+03,  1.15468186e+02,  2.93826451e+03,\n",
       "        2.45791174e+03,  1.60154977e+03,  7.84036564e+02,  3.79818553e+03,\n",
       "        1.99861915e+02,  2.84027523e+03,  2.48731524e+03, -4.34974701e+02,\n",
       "        4.87104926e+03,  2.57637133e+03,  2.71066080e+03,  2.96466192e+03,\n",
       "        2.10492967e+03,  2.60462641e+03,  2.01013181e+03,  2.05065265e+03,\n",
       "        3.35421466e+03,  2.11676751e+03,  2.79643891e+03,  2.88994637e+03,\n",
       "        2.27479854e+03,  1.87311479e+03,  3.08566990e+03,  2.46678091e+03,\n",
       "        2.63432819e+03,  1.70563783e+03,  2.05052476e+03,  2.95855486e+03,\n",
       "        2.86807638e+03,  1.82905098e+03,  4.25096506e+03,  3.89742421e+03,\n",
       "        1.83549668e+03,  3.17916833e+03, -7.44009943e+02,  7.18447187e+02,\n",
       "        1.45202050e+03,  1.06254468e+03, -5.07188793e+02,  3.02099530e+03,\n",
       "        1.17096544e+03,  8.64060939e+02,  4.29877894e+03,  4.49662062e+03,\n",
       "        3.01215719e+03,  4.95944547e+03,  2.93539310e+03,  4.28111793e+00,\n",
       "        2.33297136e+03,  1.74802390e+03,  7.95074844e+02,  5.63034767e+02,\n",
       "        1.51131360e+03,  3.41446038e+03, -9.90487013e+02,  9.90485767e+02,\n",
       "        1.51256514e+03,  2.56031823e+03,  1.32792399e+03,  9.59741950e+02,\n",
       "       -1.14904685e+03,  4.09338665e+03,  9.33738205e+02,  1.73412546e+03,\n",
       "        2.41625861e+03,  3.51533761e+02,  1.48356820e+03,  3.24339218e+03,\n",
       "        1.09354172e+03,  4.76331824e+03,  2.38291322e+03,  3.82730968e+03,\n",
       "        3.77344572e+03,  2.63616290e+03,  1.55595965e+03,  4.37179722e+03,\n",
       "        2.18962865e+03,  6.20276069e+02,  1.07476749e+03,  5.69461524e+02,\n",
       "        4.25194472e+03,  2.28383676e+03,  2.81986448e+03,  1.87961305e+03,\n",
       "        8.39899153e+02,  6.57643758e+02,  3.02676868e+03,  1.46533832e+03,\n",
       "        4.01485051e+03,  2.39089241e+03,  4.76237389e+03,  3.27761611e+03,\n",
       "        3.69812434e+03,  2.11191389e+03,  1.15780441e+03,  1.88147539e+03,\n",
       "       -9.03142452e+02,  3.94265038e+03,  4.27063589e+03,  4.93121424e+02,\n",
       "        1.14868225e+03,  2.58886669e+03,  2.14632564e+03,  2.06868999e+03,\n",
       "        2.75340437e+03,  3.77135164e+03,  8.88301760e+02,  4.73614379e+03,\n",
       "        2.90291422e+03,  5.41577313e+03,  4.97466617e+02,  2.55816317e+03,\n",
       "        1.13255735e+03,  2.67389171e+03,  4.94142779e+03,  1.98509365e+03,\n",
       "        3.84529551e+03,  1.27117948e+03,  3.30561495e+03,  4.55736305e+03,\n",
       "        1.62994818e+03,  6.01128684e+03,  5.07700994e+03,  1.20339233e+03,\n",
       "        2.67525971e+03,  2.84377902e+03,  2.03160935e+03,  1.47061649e+03,\n",
       "        3.85831190e+03,  1.94305325e+03,  3.71217059e+03,  1.46251397e+03,\n",
       "        1.94786512e+03,  1.15649476e+03,  2.93561361e+03,  1.22160389e+03,\n",
       "        2.19085056e+03,  2.20487005e+03,  2.48118101e+02,  2.23229962e+03,\n",
       "        2.64321478e+03,  1.56483923e+03,  5.72375219e+03,  5.17351914e+03,\n",
       "        3.12048305e+03,  5.06010531e+03,  1.44033280e+03,  2.01078669e+03,\n",
       "        4.72458136e+02,  1.17153383e+03,  5.93579826e+02,  2.90036078e+03,\n",
       "        4.37847661e+03,  1.51494915e+03,  4.97468849e+03,  1.98776650e+03,\n",
       "        2.97488354e+03,  1.58194198e+03,  2.19553790e+03,  1.90880696e+03,\n",
       "        2.73555318e+03,  3.33415263e+03,  1.77972420e+03,  1.53636845e+03,\n",
       "        1.98176782e+03,  1.84756922e+03,  3.46153182e+03,  1.28158170e+03,\n",
       "        4.49839247e+03,  2.31781950e+03,  3.06163034e+02,  6.50252831e+02,\n",
       "        1.38198152e+03,  2.68406121e+03,  3.61454267e+02,  3.34476423e+03,\n",
       "        2.95336779e+03,  1.95113689e+03, -6.25660304e+01,  5.73492217e+02,\n",
       "        2.60570067e+03, -1.14165550e+02,  1.45034688e+03, -1.94704855e+03,\n",
       "        1.20644693e+03, -1.21266317e+03,  1.69537524e+03,  3.74802585e+03,\n",
       "        5.45157401e+03,  5.07827676e+03,  1.77362241e+03,  1.47560020e+03,\n",
       "        3.32618918e+02,  4.23013848e+03,  2.18819266e+03,  5.61972697e+03,\n",
       "        3.36978561e+03,  1.04039649e+03,  2.06846907e+03,  2.06504618e+03,\n",
       "        1.74358582e+03,  1.85768134e+03,  1.46190228e+03,  9.67974449e+02,\n",
       "        1.12558157e+03,  2.72914984e+03,  2.01754772e+03,  3.39962772e+03,\n",
       "        3.70674669e+03,  2.60490196e+03,  7.14109699e+02,  3.41950030e+03,\n",
       "        1.05827066e+03, -9.68755941e+02,  2.33431203e+03,  2.30640457e+03,\n",
       "        1.77447457e+03,  8.93233225e+02,  3.78641025e+03,  1.62569728e+03,\n",
       "        1.32636567e+03,  6.88746088e+02,  3.42373162e+03,  3.08787017e+03,\n",
       "        3.13870937e+03,  4.53864389e+03,  2.45048909e+03,  1.47807290e+03,\n",
       "        4.58802631e+01,  2.27373683e+03,  1.70938912e+03,  6.99334769e+02,\n",
       "        3.07395682e+02,  1.64123989e+03,  8.18174367e+02,  4.21346429e+02,\n",
       "        1.46449239e+03,  1.30212994e+03,  1.47086996e+03,  3.65349401e+03,\n",
       "       -8.99136865e+02,  1.72285136e+03,  1.32195798e+03,  2.33778837e+03,\n",
       "        1.30240181e+03,  4.20351732e+03,  1.46123576e+03,  3.88152019e+03,\n",
       "        3.78117208e+03,  3.21257001e+03,  1.62915292e+03,  9.62525873e+02,\n",
       "        4.20124893e+03,  2.45691220e+03,  2.26251930e+03,  2.23599904e+03,\n",
       "        5.07630677e+03,  2.33666654e+03,  9.76191535e+02,  2.23092928e+03,\n",
       "        1.34705665e+03,  1.31404043e+03,  1.27641101e+03,  4.00951737e+03,\n",
       "        2.78694138e+03,  3.85735532e+03,  5.88661794e+03,  2.13495847e+03,\n",
       "        1.90229639e+03,  7.34720303e+02,  2.87535680e+03,  2.98252017e+03,\n",
       "        3.28166495e+03,  5.21911688e+03,  1.26944749e+03,  4.71806515e+03,\n",
       "        7.96508154e+02,  1.57739989e+03,  1.48567459e+03,  1.07966177e+03,\n",
       "        1.34550012e+02,  8.88099422e+02,  1.75249720e+03,  2.26498605e+03,\n",
       "        2.74999649e+03,  1.55375766e+03,  4.01868778e+03,  1.88124394e+03,\n",
       "        3.99569379e+03,  2.07586470e+03,  2.63231875e+03,  1.54310225e+03,\n",
       "        9.82264632e+02,  3.38900712e+03,  3.82968547e+03,  4.27329736e+03,\n",
       "        6.32463652e+02,  1.27846887e+03,  2.79706559e+03,  2.37570849e+03,\n",
       "        4.74201276e+03,  2.12277855e+03, -1.92204833e+02,  3.75095660e+00,\n",
       "        3.85742750e+03,  2.95444521e+03,  4.39220472e+03,  2.83295988e+03,\n",
       "        1.95971118e+03,  2.52005542e+02,  6.60928473e+02,  1.23945830e+03,\n",
       "        2.55615938e+03,  2.30134505e+03,  2.68357370e+03,  1.06594428e+03,\n",
       "        2.64223624e+03,  2.72990551e+03,  7.67726983e+02,  3.49383781e+03,\n",
       "        4.91474980e+03,  2.42292720e+03,  1.84378062e+03,  3.05961440e+03,\n",
       "        4.04988748e+03,  3.20514855e+03,  2.07794021e+03,  5.09660991e+03,\n",
       "        8.29539106e+02,  1.67071437e+03,  8.88919667e+02,  1.06914618e+03,\n",
       "        1.93651642e+03,  1.73090054e+03,  7.66931295e+02,  1.78985737e+03,\n",
       "        1.66920394e+03,  4.37807856e+02,  1.82362796e+03,  2.46279359e+03,\n",
       "        1.17249667e+03,  7.91293331e+02,  1.41701760e+03, -9.51538178e+02,\n",
       "       -3.38716204e+02,  1.52485753e+03,  2.13329920e+03,  4.56078525e+03,\n",
       "       -3.61383141e+02, -5.68454526e+02,  1.50891888e+03,  2.76971688e+03,\n",
       "        4.75449467e+03,  2.60694892e+03,  3.66695809e+03,  3.43149969e+03,\n",
       "        3.03676861e+03,  1.59079091e+03,  1.77836171e+03,  2.40616100e+03,\n",
       "        9.57304324e+02,  8.23543719e+02,  8.80814967e+02,  2.40085117e+03,\n",
       "        1.40955027e+03,  2.23604396e+03,  2.11237392e+03,  3.51088641e+03,\n",
       "        3.62669615e+03,  2.24427536e+03,  2.98640207e+03,  1.19650051e+03,\n",
       "        2.57402555e+03,  2.94372948e+03,  2.31773276e+03,  9.65715768e+02,\n",
       "       -1.02667454e+03,  2.67564899e+03,  2.34753138e+03,  5.02117712e+03,\n",
       "        9.22056792e+02,  1.89167972e+03,  2.20128557e+03,  1.87699425e+03,\n",
       "        1.72334954e+03,  2.06082516e+03, -9.98623197e+02,  1.73146405e+03,\n",
       "        3.31676682e+03,  3.19192916e+02,  9.01757571e+02,  4.01183029e+03,\n",
       "        1.26351110e+03,  8.81943277e+01,  1.36017701e+03,  4.34502828e+03,\n",
       "        2.25909844e+03,  4.28196505e+03,  4.90572033e+02,  2.97300077e+03,\n",
       "        1.72564886e+03,  1.86816224e+03,  1.51421086e+03,  1.67878270e+03,\n",
       "        2.35593157e+03,  3.37090970e+03,  1.09828596e+03,  1.94943454e+03,\n",
       "        1.96179622e+03,  3.14820506e+03,  3.21175542e+02,  1.35788917e+03,\n",
       "        8.77609604e+02,  9.85182434e+02,  2.28240151e+03,  1.78750542e+03,\n",
       "        3.77984935e+03,  6.60364469e+02,  1.33270704e+03,  2.31323536e+03,\n",
       "        1.81864290e+03,  3.30579054e+03,  2.13547491e+03,  1.40479385e+03,\n",
       "        2.40678479e+02,  9.66167130e+02,  1.96003263e+03,  1.71348574e+03,\n",
       "        2.03623356e+03,  5.33299547e+03, -1.16033090e+03,  5.18373750e+03,\n",
       "        4.01363494e+03,  9.48207643e+02,  1.00916582e+03,  3.31102130e+03,\n",
       "        1.52495798e+03,  3.57546576e+03,  1.92205531e+03,  2.25172433e+03,\n",
       "        3.91881327e+03,  2.51144579e+03,  1.94459482e+03,  2.08951386e+03,\n",
       "        2.42760236e+03,  1.50766521e+03,  1.65665089e+03,  2.43562851e+03,\n",
       "        4.09727604e+03,  4.05461098e+03,  2.91454730e+03,  1.59472301e+03,\n",
       "        2.06814733e+03,  2.97441065e+03,  4.70894269e+03,  4.08065067e+03,\n",
       "        2.01363594e+03,  1.62353233e+03,  1.10626325e+03,  2.30217505e+03,\n",
       "        1.23490536e+03,  3.39487565e+03,  3.75709729e+03,  2.90100683e+03,\n",
       "        1.10293230e+03,  1.76245000e+03,  1.40135917e+03])"
      ]
     },
     "execution_count": 39,
     "metadata": {},
     "output_type": "execute_result"
    }
   ],
   "source": [
    "pre=reg.predict(x_test)\n",
    "pre"
   ]
  },
  {
   "cell_type": "code",
   "execution_count": 28,
   "id": "preliminary-thanks",
   "metadata": {},
   "outputs": [
    {
     "data": {
      "text/plain": [
       "0.4023209433739946"
      ]
     },
     "execution_count": 28,
     "metadata": {},
     "output_type": "execute_result"
    }
   ],
   "source": [
    "#performance\n",
    "reg.score(x_test,true_p)"
   ]
  },
  {
   "cell_type": "code",
   "execution_count": 29,
   "id": "sacred-invalid",
   "metadata": {},
   "outputs": [
    {
     "data": {
      "text/plain": [
       "0.6497748768370691"
      ]
     },
     "execution_count": 29,
     "metadata": {},
     "output_type": "execute_result"
    }
   ],
   "source": [
    "#performance\n",
    "reg.score(x_train,y_train)"
   ]
  },
  {
   "cell_type": "code",
   "execution_count": 30,
   "id": "significant-yugoslavia",
   "metadata": {},
   "outputs": [
    {
     "data": {
      "application/javascript": [
       "\n",
       "        if (window._pyforest_update_imports_cell) { window._pyforest_update_imports_cell('import pandas as pd\\nimport numpy as np'); }\n",
       "    "
      ],
      "text/plain": [
       "<IPython.core.display.Javascript object>"
      ]
     },
     "metadata": {},
     "output_type": "display_data"
    },
    {
     "data": {
      "application/javascript": [
       "\n",
       "        if (window._pyforest_update_imports_cell) { window._pyforest_update_imports_cell('import pandas as pd\\nimport numpy as np'); }\n",
       "    "
      ],
      "text/plain": [
       "<IPython.core.display.Javascript object>"
      ]
     },
     "metadata": {},
     "output_type": "display_data"
    },
    {
     "data": {
      "application/javascript": [
       "\n",
       "        if (window._pyforest_update_imports_cell) { window._pyforest_update_imports_cell('import pandas as pd\\nimport numpy as np'); }\n",
       "    "
      ],
      "text/plain": [
       "<IPython.core.display.Javascript object>"
      ]
     },
     "metadata": {},
     "output_type": "display_data"
    },
    {
     "data": {
      "application/javascript": [
       "\n",
       "        if (window._pyforest_update_imports_cell) { window._pyforest_update_imports_cell('import pandas as pd\\nimport numpy as np'); }\n",
       "    "
      ],
      "text/plain": [
       "<IPython.core.display.Javascript object>"
      ]
     },
     "metadata": {},
     "output_type": "display_data"
    },
    {
     "data": {
      "application/javascript": [
       "\n",
       "        if (window._pyforest_update_imports_cell) { window._pyforest_update_imports_cell('import pandas as pd\\nimport numpy as np'); }\n",
       "    "
      ],
      "text/plain": [
       "<IPython.core.display.Javascript object>"
      ]
     },
     "metadata": {},
     "output_type": "display_data"
    }
   ],
   "source": [
    "rms_test=np.sqrt(np.mean(np.power((np.array(true_p)-np.array(pre)),2)))"
   ]
  },
  {
   "cell_type": "code",
   "execution_count": 31,
   "id": "worthy-culture",
   "metadata": {},
   "outputs": [
    {
     "data": {
      "application/javascript": [
       "\n",
       "        if (window._pyforest_update_imports_cell) { window._pyforest_update_imports_cell('import pandas as pd\\nimport numpy as np'); }\n",
       "    "
      ],
      "text/plain": [
       "<IPython.core.display.Javascript object>"
      ]
     },
     "metadata": {},
     "output_type": "display_data"
    },
    {
     "data": {
      "application/javascript": [
       "\n",
       "        if (window._pyforest_update_imports_cell) { window._pyforest_update_imports_cell('import pandas as pd\\nimport numpy as np'); }\n",
       "    "
      ],
      "text/plain": [
       "<IPython.core.display.Javascript object>"
      ]
     },
     "metadata": {},
     "output_type": "display_data"
    },
    {
     "data": {
      "application/javascript": [
       "\n",
       "        if (window._pyforest_update_imports_cell) { window._pyforest_update_imports_cell('import pandas as pd\\nimport numpy as np'); }\n",
       "    "
      ],
      "text/plain": [
       "<IPython.core.display.Javascript object>"
      ]
     },
     "metadata": {},
     "output_type": "display_data"
    },
    {
     "data": {
      "application/javascript": [
       "\n",
       "        if (window._pyforest_update_imports_cell) { window._pyforest_update_imports_cell('import pandas as pd\\nimport numpy as np'); }\n",
       "    "
      ],
      "text/plain": [
       "<IPython.core.display.Javascript object>"
      ]
     },
     "metadata": {},
     "output_type": "display_data"
    },
    {
     "data": {
      "application/javascript": [
       "\n",
       "        if (window._pyforest_update_imports_cell) { window._pyforest_update_imports_cell('import pandas as pd\\nimport numpy as np'); }\n",
       "    "
      ],
      "text/plain": [
       "<IPython.core.display.Javascript object>"
      ]
     },
     "metadata": {},
     "output_type": "display_data"
    }
   ],
   "source": [
    "rms_train=np.sqrt(np.mean(np.power((np.array(y_train)-np.array(reg.predict(x_train))),2)))"
   ]
  },
  {
   "cell_type": "code",
   "execution_count": 32,
   "id": "civic-military",
   "metadata": {},
   "outputs": [
    {
     "name": "stdout",
     "output_type": "stream",
     "text": [
      "1255.3462887430774 1013.0021786158595\n"
     ]
    }
   ],
   "source": [
    "print(rms_test,rms_train)"
   ]
  },
  {
   "cell_type": "code",
   "execution_count": null,
   "id": "naked-season",
   "metadata": {},
   "outputs": [],
   "source": []
  }
 ],
 "metadata": {
  "kernelspec": {
   "display_name": "Python 3",
   "language": "python",
   "name": "python3"
  },
  "language_info": {
   "codemirror_mode": {
    "name": "ipython",
    "version": 3
   },
   "file_extension": ".py",
   "mimetype": "text/x-python",
   "name": "python",
   "nbconvert_exporter": "python",
   "pygments_lexer": "ipython3",
   "version": "3.9.2"
  }
 },
 "nbformat": 4,
 "nbformat_minor": 5
}
